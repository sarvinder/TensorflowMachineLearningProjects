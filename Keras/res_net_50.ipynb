{
 "cells": [
  {
   "cell_type": "code",
   "execution_count": 1,
   "metadata": {},
   "outputs": [
    {
     "name": "stderr",
     "output_type": "stream",
     "text": [
      "Using TensorFlow backend.\n",
      "/home/nbuser/anaconda3_501/lib/python3.6/importlib/_bootstrap.py:219: RuntimeWarning: compiletime version 3.5 of module 'tensorflow.python.framework.fast_tensor_util' does not match runtime version 3.6\n",
      "  return f(*args, **kwds)\n"
     ]
    }
   ],
   "source": [
    "#this net is the 32 layer res net architectur\n",
    "##this will follow there bottleneck architecture\n",
    "import keras\n",
    "from keras import layers\n",
    "from keras.models import Model\n",
    "from keras.layers import Conv2D,MaxPool2D,AveragePooling2D,BatchNormalization,Input,Dense,Activation,Flatten\n",
    "from keras.preprocessing.image import ImageDataGenerator\n"
   ]
  },
  {
   "cell_type": "code",
   "execution_count": 2,
   "metadata": {
    "collapsed": true
   },
   "outputs": [],
   "source": [
    "from keras.datasets import cifar10"
   ]
  },
  {
   "cell_type": "code",
   "execution_count": 3,
   "metadata": {
    "collapsed": true
   },
   "outputs": [],
   "source": [
    "##First lets build the residual bottleneck block from the res net architecture\n",
    "##this uses 3 concolutional layers rather than 2 as in the standard\n",
    "\n",
    "def residual_block(input_tensor,kernel_size,filters,stride=(1,1),double_input=False):\n",
    "    \"\"\"The parameters passed to this block are\n",
    "        input_tensor:this is the input node that is passed as the input to the residual block\n",
    "        kernal_size:this is the size of the weights like 1X1 or 3X3\n",
    "        filters:these are the number of filters list that contains the filters for the there layers\n",
    "        stage:this the layer at which we are...just to do the naming of the layers\n",
    "        block :this is also used for the naming scheme\"\"\"\n",
    "    filters1,filters2,filters3=filters\n",
    "    \n",
    "    ##first 1X1 conv layer\n",
    "    x = BatchNormalization(axis=1, epsilon=0.001)(input_tensor)\n",
    "    x = Conv2D(filters1, (1, 1),activation=\"relu\",strides=(1,1),padding='same',kernel_initializer='glorot_uniform',\n",
    "               kernel_regularizer=keras.regularizers.l2(0.01))(x)\n",
    "    if double_input:\n",
    "        input_tensor=Conv2D(filters1,(3,3),strides=(2,2),padding='same')(input_tensor)\n",
    "    \n",
    "    ##secind conv layer\n",
    "    x = BatchNormalization(axis=1, epsilon=0.001)(x)\n",
    "    x = Conv2D(filters2, kernel_size,\n",
    "               padding='same',activation=\"relu\",strides=stride,kernel_initializer='glorot_uniform',\n",
    "               kernel_regularizer=keras.regularizers.l2(0.01))(x)\n",
    "   \n",
    "    ##third 1X1 conv layer\n",
    "    \n",
    "    x = BatchNormalization(axis=1, epsilon=0.001)(x)\n",
    "    x = Conv2D(filters3, (1, 1),strides=(1,1),padding='same',kernel_initializer='glorot_uniform',\n",
    "               kernel_regularizer=keras.regularizers.l2(0.01))(x)\n",
    "    x = layers.add([x, input_tensor])\n",
    "    x = Activation('relu')(x)\n",
    "    return x\n",
    "    "
   ]
  },
  {
   "cell_type": "code",
   "execution_count": null,
   "metadata": {},
   "outputs": [
    {
     "name": "stdout",
     "output_type": "stream",
     "text": [
      "Downloading data from http://www.cs.toronto.edu/~kriz/cifar-10-python.tar.gz\n",
      "170409984/170498071 [============================>.] - ETA: 0sEpoch 1/100\n",
      "  176/50000 [..............................] - ETA: 283910s - loss: 22.9959 - acc: 0.1845"
     ]
    }
   ],
   "source": [
    "batch_size=32\n",
    "num_classes=10\n",
    "epochs=100\n",
    "data_augmentation=True\n",
    "(x_train,y_train),(x_test,y_test)=cifar10.load_data()\n",
    "\n",
    "##one hot excode the y_train and y_test\n",
    "##the shape will be [00000010000](one hot encoded)\n",
    "##just a example not the any of y_train or y_test actual resulting shape\n",
    "y_train= keras.utils.to_categorical(y_train,num_classes=num_classes)\n",
    "y_test = keras.utils.to_categorical(y_test,num_classes=num_classes)\n",
    "\n",
    "x_train = x_train.astype('float32')\n",
    "x_test = x_test.astype('float32')\n",
    "x_train /= 255\n",
    "x_test /= 255\n",
    "\n",
    "\n",
    "input_shape=x_train.shape[1:]\n",
    "\n",
    "img_input = Input(shape=input_shape)\n",
    "x = Conv2D(16,(3,3), strides=(1,1),padding=\"same\",activation=\"relu\",kernel_initializer='glorot_uniform',\n",
    "               kernel_regularizer=keras.regularizers.l2(0.01))(img_input)\n",
    "x = BatchNormalization(axis=1)(x)\n",
    "\n",
    "x = residual_block(x, 3, [16, 16, 16],(1,1))\n",
    "x = residual_block(x, 3, [16, 16, 16],(1,1))\n",
    "x = residual_block(x, 3, [16, 16, 16],(1,1))\n",
    "x = residual_block(x, 3, [32, 32, 32],(2,2),True)\n",
    "x = residual_block(x, 3, [32, 32, 32],(1,1))\n",
    "x = residual_block(x, 3, [32, 32, 32],(1,1))\n",
    "x = residual_block(x, 3, [32, 32, 32],(1,1))\n",
    "x = residual_block(x, 3, [64, 64, 64],(2,2),True)\n",
    "x = residual_block(x, 3, [64, 64, 64],(1,1))\n",
    "x = residual_block(x, 3, [64, 64, 64],(1,1))\n",
    "x = residual_block(x, 3, [64, 64, 64],(1,1))\n",
    "x = residual_block(x, 3, [64, 64, 64],(1,1))\n",
    "x = residual_block(x, 3, [64, 64, 64],(1,1))\n",
    "x = residual_block(x, 3, [128, 128, 128],(2,2),True)\n",
    "x = residual_block(x, 3, [128, 128, 128],(1,1))\n",
    "x = residual_block(x, 3, [128, 128, 128],(1,1))\n",
    "\n",
    "##averagePool\n",
    "x = AveragePooling2D((2,2), name='avg_pool')(x)\n",
    "x = Flatten()(x)\n",
    "x = Dense(num_classes, activation='softmax')(x)\n",
    "\n",
    "inputs = img_input\n",
    "model = Model(inputs, x)\n",
    "opt=keras.optimizers.Adam(lr=0.001,decay=1e-6)\n",
    "\n",
    "model.compile(loss=keras.losses.categorical_crossentropy,\n",
    "              optimizer=opt,\n",
    "              metrics=['accuracy'])\n",
    "\n",
    "if not data_augmentation:\n",
    "    model.fit(x_train,y_train,\n",
    "              batch_size=batch_size,\n",
    "              epochs=epochs,\n",
    "              verbose=1,\n",
    "              validation_data=(x_test,y_test))\n",
    "else:\n",
    "    datagen=ImageDataGenerator(featurewise_center=False,  # set input mean to 0 over the dataset\n",
    "        samplewise_center=False,  # set each sample mean to 0\n",
    "        featurewise_std_normalization=False,  # divide inputs by std of the dataset\n",
    "        samplewise_std_normalization=False,  # divide each input by its std\n",
    "        zca_whitening=False,  # apply ZCA whitening\n",
    "        rotation_range=0,  # randomly rotate images in the range (degrees, 0 to 180)\n",
    "        width_shift_range=0.1,  # randomly shift images horizontally (fraction of total width)\n",
    "        height_shift_range=0.1,  # randomly shift images vertically (fraction of total height)\n",
    "        horizontal_flip=True,  # randomly flip images\n",
    "        vertical_flip=False\n",
    "    )\n",
    "    datagen.fit(x_train)\n",
    "    model.fit_generator(datagen.flow(x_train, y_train,\n",
    "                                     batch_size=batch_size),\n",
    "                        epochs=epochs,\n",
    "                        validation_data=(x_test, y_test),\n",
    "                        workers=4,\n",
    "                        verbose=1,\n",
    "                        steps_per_epoch=50000)\n",
    "    \n",
    "    \n",
    "scores=model.evaluate(x_test,y_test,verbose=1)\n",
    "print('Test loss:', scores[0])\n",
    "print('Test accuracy:', scores[1])"
   ]
  },
  {
   "cell_type": "code",
   "execution_count": null,
   "metadata": {
    "collapsed": true
   },
   "outputs": [],
   "source": []
  }
 ],
 "metadata": {
  "kernelspec": {
   "display_name": "Python 3.6",
   "language": "python",
   "name": "python36"
  },
  "language_info": {
   "codemirror_mode": {
    "name": "ipython",
    "version": 3
   },
   "file_extension": ".py",
   "mimetype": "text/x-python",
   "name": "python",
   "nbconvert_exporter": "python",
   "pygments_lexer": "ipython3",
   "version": "3.6.3"
  }
 },
 "nbformat": 4,
 "nbformat_minor": 2
}
