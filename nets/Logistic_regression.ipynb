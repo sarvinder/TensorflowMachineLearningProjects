{
 "cells": [
  {
   "cell_type": "code",
   "execution_count": 1,
   "metadata": {},
   "outputs": [],
   "source": [
    "##This is the logistic regression in keras implementation\n"
   ]
  },
  {
   "cell_type": "code",
   "execution_count": 3,
   "metadata": {},
   "outputs": [],
   "source": [
    "import keras\n",
    "from keras.datasets import mnist"
   ]
  },
  {
   "cell_type": "code",
   "execution_count": 4,
   "metadata": {},
   "outputs": [],
   "source": [
    "from keras.models import Sequential\n",
    "from keras.layers import Dense\n"
   ]
  },
  {
   "cell_type": "code",
   "execution_count": 10,
   "metadata": {},
   "outputs": [],
   "source": [
    "##Constants\n",
    "batch_size = 100\n",
    "num_classes = 10\n",
    "epochs = 120\n",
    "\n",
    "img_row,img_col = 28 , 28\n",
    "\n",
    "##get the data somehow\n",
    "(x_train,y_train),(x_test,y_test) = mnist.load_data()\n"
   ]
  },
  {
   "cell_type": "code",
   "execution_count": 11,
   "metadata": {},
   "outputs": [
    {
     "name": "stdout",
     "output_type": "stream",
     "text": [
      "(60000, 28, 28)\n"
     ]
    }
   ],
   "source": [
    "##data arrangement\n",
    "print(x_train.shape)\n"
   ]
  },
  {
   "cell_type": "code",
   "execution_count": 12,
   "metadata": {},
   "outputs": [
    {
     "name": "stdout",
     "output_type": "stream",
     "text": [
      "(60000, 784)\n"
     ]
    }
   ],
   "source": [
    "x_train = x_train.reshape(x_train.shape[0],img_row * img_col)\n",
    "print(x_train.shape)"
   ]
  },
  {
   "cell_type": "code",
   "execution_count": 13,
   "metadata": {},
   "outputs": [
    {
     "name": "stdout",
     "output_type": "stream",
     "text": [
      "(60000, 784)\n",
      "(10000, 784)\n"
     ]
    }
   ],
   "source": [
    "input_dim = 784 #28*28 \n",
    "x_train = x_train.reshape(60000, input_dim) \n",
    "x_test = x_test.reshape(10000, input_dim) \n",
    "x_train = x_train.astype('float32') \n",
    "x_test = x_test.astype('float32') \n",
    "x_train /= 255 \n",
    "x_test /= 255\n",
    "print(x_train.shape)\n",
    "print(x_test.shape)"
   ]
  },
  {
   "cell_type": "code",
   "execution_count": 14,
   "metadata": {},
   "outputs": [
    {
     "name": "stderr",
     "output_type": "stream",
     "text": [
      "/home/nbuser/anaconda3_501/lib/python3.6/site-packages/keras/models.py:944: UserWarning: The `nb_epoch` argument in `fit` has been renamed `epochs`.\n",
      "  warnings.warn('The `nb_epoch` argument in `fit` '\n"
     ]
    },
    {
     "name": "stdout",
     "output_type": "stream",
     "text": [
      "Train on 60000 samples, validate on 10000 samples\n",
      "Epoch 1/20\n",
      "60000/60000 [==============================] - 4s 66us/step - loss: 1.2669 - acc: 0.7123 - val_loss: 0.8109 - val_acc: 0.8295\n",
      "Epoch 2/20\n",
      "60000/60000 [==============================] - 3s 43us/step - loss: 0.7183 - acc: 0.8398 - val_loss: 0.6088 - val_acc: 0.8620\n",
      "Epoch 3/20\n",
      "60000/60000 [==============================] - 2s 35us/step - loss: 0.5896 - acc: 0.8592 - val_loss: 0.5271 - val_acc: 0.8740\n",
      "Epoch 4/20\n",
      "60000/60000 [==============================] - 2s 41us/step - loss: 0.5276 - acc: 0.8689 - val_loss: 0.4810 - val_acc: 0.8805\n",
      "Epoch 5/20\n",
      "60000/60000 [==============================] - 2s 38us/step - loss: 0.4897 - acc: 0.8753 - val_loss: 0.4511 - val_acc: 0.8857\n",
      "Epoch 6/20\n",
      "60000/60000 [==============================] - 2s 36us/step - loss: 0.4637 - acc: 0.8798 - val_loss: 0.4300 - val_acc: 0.8884\n",
      "Epoch 7/20\n",
      "60000/60000 [==============================] - 2s 35us/step - loss: 0.4443 - acc: 0.8830 - val_loss: 0.4136 - val_acc: 0.8913\n",
      "Epoch 8/20\n",
      "60000/60000 [==============================] - 2s 35us/step - loss: 0.4292 - acc: 0.8855 - val_loss: 0.4008 - val_acc: 0.8945\n",
      "Epoch 9/20\n",
      "60000/60000 [==============================] - 2s 33us/step - loss: 0.4171 - acc: 0.8883 - val_loss: 0.3904 - val_acc: 0.8975\n",
      "Epoch 10/20\n",
      "60000/60000 [==============================] - 2s 34us/step - loss: 0.4070 - acc: 0.8904 - val_loss: 0.3818 - val_acc: 0.8989\n",
      "Epoch 11/20\n",
      "60000/60000 [==============================] - 2s 41us/step - loss: 0.3984 - acc: 0.8926 - val_loss: 0.3744 - val_acc: 0.8997\n",
      "Epoch 12/20\n",
      "60000/60000 [==============================] - 2s 27us/step - loss: 0.3910 - acc: 0.8941 - val_loss: 0.3680 - val_acc: 0.9008\n",
      "Epoch 13/20\n",
      "60000/60000 [==============================] - 2s 36us/step - loss: 0.3846 - acc: 0.8955 - val_loss: 0.3625 - val_acc: 0.9017\n",
      "Epoch 14/20\n",
      "60000/60000 [==============================] - 3s 47us/step - loss: 0.3789 - acc: 0.8968 - val_loss: 0.3576 - val_acc: 0.9032\n",
      "Epoch 15/20\n",
      "60000/60000 [==============================] - 2s 33us/step - loss: 0.3738 - acc: 0.8981 - val_loss: 0.3529 - val_acc: 0.9042\n",
      "Epoch 16/20\n",
      "60000/60000 [==============================] - 2s 29us/step - loss: 0.3693 - acc: 0.8991 - val_loss: 0.3489 - val_acc: 0.9055\n",
      "Epoch 17/20\n",
      "60000/60000 [==============================] - 1s 25us/step - loss: 0.3651 - acc: 0.8996 - val_loss: 0.3453 - val_acc: 0.9058\n",
      "Epoch 18/20\n",
      "60000/60000 [==============================] - 2s 26us/step - loss: 0.3613 - acc: 0.9007 - val_loss: 0.3424 - val_acc: 0.9064\n",
      "Epoch 19/20\n",
      "60000/60000 [==============================] - 2s 33us/step - loss: 0.3579 - acc: 0.9013 - val_loss: 0.3396 - val_acc: 0.9077\n",
      "Epoch 20/20\n",
      "60000/60000 [==============================] - 2s 32us/step - loss: 0.3547 - acc: 0.9021 - val_loss: 0.3365 - val_acc: 0.9087\n",
      "Test score: 0.336543156624\n",
      "Test accuracy: 0.9087\n"
     ]
    }
   ],
   "source": [
    "\n",
    "from keras.utils import np_utils \n",
    "y_train = np_utils.to_categorical(y_train, num_classes) \n",
    "y_test = np_utils.to_categorical(y_test, num_classes)\n",
    "\n",
    "\n",
    "##build the model\n",
    "model = Sequential()\n",
    "model.add(Dense(10, input_dim=input_dim, activation='softmax')) \n",
    "batch_size = 128 \n",
    "model.compile(optimizer='sgd', loss='categorical_crossentropy', metrics=['accuracy']) \n",
    "history = model.fit(x_train, y_train, batch_size=batch_size, nb_epoch=epochs,verbose=1, validation_data=(x_test, y_test)) \n",
    "score = model.evaluate(x_test, y_test, verbose=0) \n",
    "print('Test score:', score[0]) \n",
    "print('Test accuracy:', score[1])\n",
    "\n"
   ]
  },
  {
   "cell_type": "code",
   "execution_count": null,
   "metadata": {},
   "outputs": [],
   "source": []
  },
  {
   "cell_type": "code",
   "execution_count": null,
   "metadata": {},
   "outputs": [],
   "source": []
  }
 ],
 "metadata": {
  "kernelspec": {
   "display_name": "Python 3.6",
   "language": "python",
   "name": "python36"
  },
  "language_info": {
   "codemirror_mode": {
    "name": "ipython",
    "version": 3
   },
   "file_extension": ".py",
   "mimetype": "text/x-python",
   "name": "python",
   "nbconvert_exporter": "python",
   "pygments_lexer": "ipython3",
   "version": "3.6.3"
  }
 },
 "nbformat": 4,
 "nbformat_minor": 2
}
