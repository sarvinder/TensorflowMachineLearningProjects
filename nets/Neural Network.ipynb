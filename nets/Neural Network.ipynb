{
 "cells": [
  {
   "cell_type": "code",
   "execution_count": 6,
   "metadata": {},
   "outputs": [],
   "source": [
    "## This is Neural network in keras\n",
    "\n",
    "import keras\n",
    "from keras import models\n",
    "from keras.models import Sequential\n",
    "from keras.layers import Dense\n",
    "from keras.datasets import mnist"
   ]
  },
  {
   "cell_type": "code",
   "execution_count": 18,
   "metadata": {},
   "outputs": [
    {
     "name": "stdout",
     "output_type": "stream",
     "text": [
      "x_train shape: (60000, 784)\n",
      "60000 train samples\n",
      "10000 test samples\n"
     ]
    }
   ],
   "source": [
    "## Declare Constants\n",
    "batch_size = 100\n",
    "epochs = 12\n",
    "num_classes = 10\n",
    "img_row,img_col = 28 , 28\n",
    "\n",
    "## Gets the data set and the flatten it into 28*28 (786) * 1\n",
    "(x_train,y_train),(x_test,y_test) = mnist.load_data()\n",
    "\n",
    "\n",
    "# flatten 28*28 images to a 784 vector for each image\n",
    "num_pixels = x_train.shape[1] * x_train.shape[2]\n",
    "x_train = x_train.reshape(x_train.shape[0], num_pixels).astype('float32')\n",
    "x_test = x_test.reshape(x_test.shape[0], num_pixels).astype('float32')\n",
    "\n",
    "x_train = x_train.astype('float32')\n",
    "x_test = x_test.astype('float32')\n",
    "x_train /= 255\n",
    "x_test /= 255\n",
    "print('x_train shape:', x_train.shape)\n",
    "print(x_train.shape[0], 'train samples')\n",
    "print(x_test.shape[0], 'test samples')\n",
    "\n",
    "# convert class vectors to binary class matrices\n",
    "y_train = keras.utils.to_categorical(y_train, num_classes)\n",
    "y_test = keras.utils.to_categorical(y_test, num_classes)\n"
   ]
  },
  {
   "cell_type": "code",
   "execution_count": 24,
   "metadata": {},
   "outputs": [],
   "source": [
    "## lets build the model\n",
    "input_dim = x_train.shape[1]\n",
    "model = Sequential()\n",
    "model.add(Dense(input_dim,input_shape = (784,),kernel_initializer ='random_uniform',activation =\"relu\" ))\n",
    "model.add(Dense(num_classes,activation=\"softmax\"))"
   ]
  },
  {
   "cell_type": "code",
   "execution_count": 26,
   "metadata": {},
   "outputs": [
    {
     "name": "stdout",
     "output_type": "stream",
     "text": [
      "Train on 60000 samples, validate on 10000 samples\n",
      "Epoch 1/12\n",
      "60000/60000 [==============================] - 10s 172us/step - loss: 0.0303 - acc: 0.9905 - val_loss: 0.0636 - val_acc: 0.9802\n",
      "Epoch 2/12\n",
      "60000/60000 [==============================] - 10s 161us/step - loss: 0.0192 - acc: 0.9942 - val_loss: 0.0649 - val_acc: 0.9817\n",
      "Epoch 3/12\n",
      "60000/60000 [==============================] - 10s 173us/step - loss: 0.0135 - acc: 0.9957 - val_loss: 0.0682 - val_acc: 0.9816\n",
      "Epoch 4/12\n",
      "60000/60000 [==============================] - 10s 163us/step - loss: 0.0113 - acc: 0.9969 - val_loss: 0.0731 - val_acc: 0.9796\n",
      "Epoch 5/12\n",
      "60000/60000 [==============================] - 10s 159us/step - loss: 0.0088 - acc: 0.9973 - val_loss: 0.0687 - val_acc: 0.9812\n",
      "Epoch 6/12\n",
      "60000/60000 [==============================] - 10s 165us/step - loss: 0.0092 - acc: 0.9972 - val_loss: 0.0705 - val_acc: 0.9813\n",
      "Epoch 7/12\n",
      "60000/60000 [==============================] - 10s 163us/step - loss: 0.0065 - acc: 0.9979 - val_loss: 0.0720 - val_acc: 0.9814\n",
      "Epoch 8/12\n",
      "60000/60000 [==============================] - 10s 165us/step - loss: 0.0066 - acc: 0.9980 - val_loss: 0.0738 - val_acc: 0.9821\n",
      "Epoch 9/12\n",
      "60000/60000 [==============================] - 10s 170us/step - loss: 0.0074 - acc: 0.9975 - val_loss: 0.0697 - val_acc: 0.9822\n",
      "Epoch 10/12\n",
      "60000/60000 [==============================] - 10s 168us/step - loss: 0.0040 - acc: 0.9989 - val_loss: 0.0763 - val_acc: 0.9816\n",
      "Epoch 11/12\n",
      "60000/60000 [==============================] - 10s 163us/step - loss: 0.0063 - acc: 0.9980 - val_loss: 0.0833 - val_acc: 0.9789\n",
      "Epoch 12/12\n",
      "60000/60000 [==============================] - 10s 167us/step - loss: 0.0030 - acc: 0.9993 - val_loss: 0.0899 - val_acc: 0.9778\n",
      "score is :  [0.089854738167756382, 0.9778]\n",
      "Saved model to disk\n"
     ]
    }
   ],
   "source": [
    "model.compile(loss=\"categorical_crossentropy\",optimizer=\"adam\",metrics=['accuracy'])\n",
    "model.fit(x_train,y_train,validation_data=(x_test,y_test),epochs=epochs,batch_size=batch_size,verbose=1)\n",
    "score = model.evaluate(x_test,y_test,verbose=0)\n",
    "print(\"score is : \",score)\n",
    "\n",
    "# serialize model to JSON\n",
    "model_json = model.to_json()\n",
    "with open(\"model.json\", \"w\") as json_file:\n",
    "    json_file.write(model_json)\n",
    "# serialize weights to HDF5\n",
    "model.save_weights(\"model.h5\")\n",
    "print(\"Saved model to disk\")\n",
    " \n",
    "# load json and create model\n",
    "#json_file = open('model.json', 'r')\n",
    "#loaded_model_json = json_file.read()\n",
    "#json_file.close()\n",
    "#loaded_model = model_from_json(loaded_model_json)\n",
    "# load weights into new model\n",
    "#loaded_model.load_weights(\"model.h5\")\n",
    "#print(\"Loaded model from disk\")\n",
    " \n",
    "# evaluate loaded model on test data\n",
    "#loaded_model.compile(loss='binary_crossentropy', optimizer='rmsprop', metrics=['accuracy'])\n",
    "#score = loaded_model.evaluate(X, Y, verbose=0)\n",
    "#print(\"%s: %.2f%%\" % (loaded_model.metrics_names[1], score[1]*100))    \n",
    "    "
   ]
  },
  {
   "cell_type": "code",
   "execution_count": null,
   "metadata": {},
   "outputs": [],
   "source": []
  }
 ],
 "metadata": {
  "kernelspec": {
   "display_name": "Python 3.6",
   "language": "python",
   "name": "python36"
  },
  "language_info": {
   "codemirror_mode": {
    "name": "ipython",
    "version": 3
   },
   "file_extension": ".py",
   "mimetype": "text/x-python",
   "name": "python",
   "nbconvert_exporter": "python",
   "pygments_lexer": "ipython3",
   "version": "3.6.3"
  }
 },
 "nbformat": 4,
 "nbformat_minor": 2
}
