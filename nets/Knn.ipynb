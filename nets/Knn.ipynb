{
 "cells": [
  {
   "cell_type": "code",
   "execution_count": 1,
   "metadata": {},
   "outputs": [],
   "source": [
    "## K nearest neighbour in keras.\n",
    "## The data is taken from the cifar10 to\n",
    "## predict what the image is .\n"
   ]
  },
  {
   "cell_type": "code",
   "execution_count": 8,
   "metadata": {},
   "outputs": [],
   "source": [
    "import keras\n",
    "from keras.models import Sequential\n",
    "from keras.layers import Dense\n",
    "import pandas as pd\n",
    "from keras.datasets import cifar10\n"
   ]
  },
  {
   "cell_type": "code",
   "execution_count": 9,
   "metadata": {},
   "outputs": [],
   "source": [
    "def get_data():\n",
    "    (x_train, y_train), (x_test, y_test) = cifar10.load_data()  \n",
    "    input_dim = 784 #28*28 \n",
    "    x_train = x_train.reshape(60000, input_dim) \n",
    "    x_test = x_test.reshape(10000, input_dim) \n",
    "    x_train = x_train.astype('float32') \n",
    "    x_test = x_test.astype('float32') \n",
    "    x_train /= 255 \n",
    "    x_test /= 255\n",
    "    print(x_train.shape)\n",
    "    print(x_test.shape)\n",
    "    return x_train, x_test, y_train, y_test\n"
   ]
  },
  {
   "cell_type": "code",
   "execution_count": 10,
   "metadata": {},
   "outputs": [],
   "source": [
    "def Knn_model(x_train, x_test, y_train, y_test, n, m):\n",
    "    model = Sequential()\n",
    "    model.add(Dense(10,input_dim=m, activation='relu', kernel_initializer='normal',\n",
    "                bias_initializer='zeros'))\n",
    "    model.compile(loss='euc_dist_keras', optimizer='adam',metrics=['accuracy'])\n",
    "    return model\n"
   ]
  },
  {
   "cell_type": "code",
   "execution_count": 11,
   "metadata": {},
   "outputs": [],
   "source": [
    "def train_model():\n",
    "    epochs=20\n",
    "    batch_size = 120\n",
    "    x_train, x_test, y_train, y_test = get_data()\n",
    "    m, n = x_train.shape[0],x_train.shape[1]\n",
    "    model = Knn_model(x,train, x_test, y_train, y_test, n, m)\n",
    "    model.fit(x_train, y_train, batch_size=batch_size, nb_epoch=epochs,verbose=1, validation_data=(x_test, y_test))\n",
    "    score = model.evaluate(x_test,y_test,verbose=0)\n",
    "    print(\"score is : \",score)"
   ]
  },
  {
   "cell_type": "code",
   "execution_count": null,
   "metadata": {},
   "outputs": [
    {
     "name": "stdout",
     "output_type": "stream",
     "text": [
      "Downloading data from https://www.cs.toronto.edu/~kriz/cifar-10-python.tar.gz\n",
      "146071552/170498071 [========================>.....] - ETA: 7s"
     ]
    }
   ],
   "source": [
    "def main():\n",
    "    train_model()\n",
    "main()\n"
   ]
  },
  {
   "cell_type": "code",
   "execution_count": null,
   "metadata": {},
   "outputs": [],
   "source": []
  }
 ],
 "metadata": {
  "kernelspec": {
   "display_name": "Python 3.6",
   "language": "python",
   "name": "python36"
  },
  "language_info": {
   "codemirror_mode": {
    "name": "ipython",
    "version": 3
   },
   "file_extension": ".py",
   "mimetype": "text/x-python",
   "name": "python",
   "nbconvert_exporter": "python",
   "pygments_lexer": "ipython3",
   "version": "3.6.3"
  }
 },
 "nbformat": 4,
 "nbformat_minor": 2
}
