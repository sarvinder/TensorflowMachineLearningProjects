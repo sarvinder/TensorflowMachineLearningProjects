{
 "cells": [
  {
   "cell_type": "code",
   "execution_count": 1,
   "metadata": {},
   "outputs": [],
   "source": [
    "## Svm implementation in keras\n",
    "## This uses the svm on the \n",
    "## Cifar10 dataset to predict\n",
    "## the name of the image\n"
   ]
  },
  {
   "cell_type": "code",
   "execution_count": 2,
   "metadata": {},
   "outputs": [
    {
     "name": "stderr",
     "output_type": "stream",
     "text": [
      "Using TensorFlow backend.\n"
     ]
    }
   ],
   "source": [
    "import keras\n",
    "from keras.datasets import cifar10\n",
    "from keras.models import Sequential\n",
    "import pandas as pd\n"
   ]
  },
  {
   "cell_type": "code",
   "execution_count": 3,
   "metadata": {},
   "outputs": [],
   "source": [
    "def get_data():\n",
    "    (x_train, y_train), (x_test, y_test) = cifar10.load_data()    \n",
    "    return x_train, x_test, y_train, y_test\n"
   ]
  },
  {
   "cell_type": "code",
   "execution_count": 4,
   "metadata": {},
   "outputs": [],
   "source": [
    "def svm_model(x_train, x_test, y_train, y_test, n, m):\n",
    "    model = Sequential()\n",
    "    model.add(Dense(10,input_dim=m, activation='relu', kernel_initializer='normal',\n",
    "                bias_initializer='zeros'))\n",
    "    model.compile(loss='hinge', optimizer='adam',metrics=['accuracy'])\n",
    "    return model\n"
   ]
  },
  {
   "cell_type": "code",
   "execution_count": 5,
   "metadata": {},
   "outputs": [],
   "source": [
    "def train_model():\n",
    "    epochs=20\n",
    "    batch_size = 120\n",
    "    x_train, x_test, y_train, y_test = get_data()\n",
    "    m, n = x_train.shape[0],x_train.shape[1]\n",
    "    model = svm_model(x,train, x_test, y_train, y_test, n, m)\n",
    "    model.fit(x_train, y_train, batch_size=batch_size, nb_epoch=epochs,verbose=1, validation_data=(x_test, y_test))\n",
    "    score = model.evaluate(x_test,y_test,verbose=0)\n",
    "    print(\"score is : \",score)"
   ]
  },
  {
   "cell_type": "code",
   "execution_count": 6,
   "metadata": {},
   "outputs": [],
   "source": [
    "def main():\n",
    "    pass"
   ]
  },
  {
   "cell_type": "code",
   "execution_count": null,
   "metadata": {},
   "outputs": [],
   "source": []
  }
 ],
 "metadata": {
  "kernelspec": {
   "display_name": "Python 3.6",
   "language": "python",
   "name": "python36"
  },
  "language_info": {
   "codemirror_mode": {
    "name": "ipython",
    "version": 3
   },
   "file_extension": ".py",
   "mimetype": "text/x-python",
   "name": "python",
   "nbconvert_exporter": "python",
   "pygments_lexer": "ipython3",
   "version": "3.6.3"
  }
 },
 "nbformat": 4,
 "nbformat_minor": 2
}
